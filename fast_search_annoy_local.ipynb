{
 "cells": [
  {
   "cell_type": "code",
   "execution_count": 1,
   "metadata": {},
   "outputs": [],
   "source": [
    "import sys\n",
    "import timeit\n",
    "import pandas as pd\n",
    "import numpy as np\n",
    "from sklearn.metrics.pairwise import euclidean_distances\n",
    "from annoy import AnnoyIndex\n",
    "\n"
   ]
  },
  {
   "cell_type": "markdown",
   "metadata": {},
   "source": [
    "# Annoy Fast Search"
   ]
  },
  {
   "cell_type": "code",
   "execution_count": 3,
   "metadata": {},
   "outputs": [],
   "source": [
    "def process_parquet():\n",
    "    data_train = pd.read_parquet('cf_train.parquet')\n",
    "    data_val = pd.read_parquet('cf_validation.parquet')\n",
    "    data_test = pd.read_parquet('cf_test.parquet')\n",
    "    \n",
    "    #df_train = data_train.select('user_id','track_id','count')\n",
    "    #df_val = data_val.select('user_id','track_id','count')\n",
    "    #df_test = data_test.select('user_id','track_id','count')\n",
    "    data_train = data_train.rename(columns={'count':'count_play'}) #otherwise row.count will give you method instead of value\n",
    "    data_train = data_train[['user_id','track_id','count_play']]\n",
    "    \n",
    "    return data_train, data_val, data_test"
   ]
  },
  {
   "cell_type": "code",
   "execution_count": 4,
   "metadata": {},
   "outputs": [
    {
     "name": "stderr",
     "output_type": "stream",
     "text": [
      "C:\\Users\\Jonathan\\Anaconda3\\lib\\site-packages\\pyarrow\\pandas_compat.py:752: FutureWarning: .labels was deprecated in version 0.24.0. Use .codes instead.\n",
      "  labels, = index.labels\n"
     ]
    }
   ],
   "source": [
    "df_train, df_val, df_test = process_parquet()\n",
    "\n",
    "\n",
    "\n",
    "df_train['user_id'] = df_train['user_id'].apply(hash)\n",
    "df_train['track_id'] = df_train['track_id'].apply(hash)\n",
    "df_val['user_id'] = df_val['user_id'].apply(hash)\n",
    "df_val['track_id'] = df_val['track_id'].apply(hash)\n",
    "df_test['user_id'] = df_test['user_id'].apply(hash)\n",
    "df_test['track_id'] = df_test['track_id'].apply(hash)"
   ]
  },
  {
   "cell_type": "code",
   "execution_count": 5,
   "metadata": {},
   "outputs": [
    {
     "name": "stderr",
     "output_type": "stream",
     "text": [
      "C:\\Users\\Jonathan\\Anaconda3\\lib\\site-packages\\pyarrow\\pandas_compat.py:752: FutureWarning: .labels was deprecated in version 0.24.0. Use .codes instead.\n",
      "  labels, = index.labels\n"
     ]
    },
    {
     "name": "stdout",
     "output_type": "stream",
     "text": [
      "Time to build tree: 40.4569195 seconds\n"
     ]
    }
   ],
   "source": [
    "#print(df_train)\n",
    "# build tree using ANN\n",
    "tic = timeit.default_timer()\n",
    "\n",
    "dim = 3\n",
    "t = AnnoyIndex(dim, 'euclidean')\n",
    "\n",
    "for index, row in df_train.iterrows():\n",
    "    #print(row.count)\n",
    "    vector = [row.user_id, row.track_id, row.count_play]\n",
    "    #print(vector)\n",
    "    t.add_item(index, vector)\n",
    "\n",
    "t.build(3)\n",
    "\n",
    "toc = timeit.default_timer()\n",
    "build_time = toc-tic\n",
    "\n",
    "print('Time to build tree: {} seconds'.format(build_time))"
   ]
  },
  {
   "cell_type": "code",
   "execution_count": 33,
   "metadata": {},
   "outputs": [
    {
     "name": "stdout",
     "output_type": "stream",
     "text": [
      "Time to get 500-nearest neighbors for item 100 in: 0.000515899999982139 seconds\n"
     ]
    }
   ],
   "source": [
    "idx = 100\n",
    "k = 500 # number of neighbors\n",
    "\n",
    "tic = timeit.default_timer()\n",
    "nearest_neighbors = t.get_nns_by_item(idx, k)\n",
    "toc = timeit.default_timer()\n",
    "\n",
    "search_time = toc-tic\n",
    "\n",
    "print('Time to get {}-nearest neighbors for item {} in: {} seconds'.format(k,idx,search_time))"
   ]
  },
  {
   "cell_type": "code",
   "execution_count": 34,
   "metadata": {},
   "outputs": [
    {
     "name": "stdout",
     "output_type": "stream",
     "text": [
      "The 500-nearest neighbors for item 100 are in indices: [100, 201578, 477219, 468141, 367839, 139412, 437827, 63450, 119924, 218447, 327752, 383629, 36139, 125037, 438509, 305360, 118620, 193008, 48652, 262520, 277228, 190114, 305749, 9684, 94177, 209302, 232387, 330868, 18928, 487528, 385656, 157742, 267678, 473983, 413623, 46857, 36137, 343752, 387730, 155012, 491284, 471614, 362723, 307247, 241717, 9135, 222377, 322324, 336782, 328577, 366034, 126483, 440043, 178976, 341322, 397909, 291203, 10401, 320606, 99436, 446730, 295983, 271014, 419957, 343015, 332359, 266063, 206385, 56300, 63507, 450964, 254904, 157205, 411226, 267511, 263221, 111158, 346474, 289406, 446896, 38571, 102088, 20113, 354731, 16933, 65140, 279686, 85126, 9956, 16826, 69128, 167454, 72793, 12865, 334674, 400044, 80222, 384768, 327029, 455939, 485303, 297822, 196945, 321328, 396458, 366033, 350577, 57232, 138841, 226387, 365670, 176509, 381594, 302975, 406626, 241531, 38612, 172888, 187831, 394356, 227777, 95953, 124354, 21244, 403193, 159621, 259140, 390236, 431962, 174357, 89731, 131271, 127988, 95975, 73446, 130095, 341019, 413430, 388633, 481847, 486419, 102784, 234230, 42632, 74319, 368779, 335020, 468530, 148245, 449708, 209582, 7665, 454160, 161271, 404022, 304173, 393665, 109757, 33209, 384734, 210226, 146386, 414926, 314600, 35360, 145153, 193835, 87532, 135316, 269562, 92383, 206901, 14751, 202530, 316982, 309511, 234659, 110012, 349493, 280796, 152090, 395818, 166423, 440059, 179629, 170118, 195979, 285335, 426358, 122618, 461976, 387978, 217624, 27155, 12128, 36243, 14686, 7145, 238737, 447133, 461838, 144099, 241063, 496228, 380202, 76919, 58860, 85591, 426928, 384820, 343432, 495735, 351452, 397142, 365711, 263501, 28019, 336853, 290021, 15488, 178852, 205176, 396445, 314292, 335112, 33636, 388932, 210294, 355895, 194014, 186927, 293035, 286709, 444848, 94309, 276165, 354518, 328870, 275967, 351482, 496915, 145031, 198139, 96668, 181532, 393437, 476769, 282512, 322818, 277011, 487753, 50807, 46742, 65247, 422981, 283523, 126908, 252749, 431115, 335985, 143682, 307169, 93517, 145356, 419407, 158250, 402346, 235385, 379297, 6760, 55871, 46828, 488382, 192535, 31259, 301054, 85157, 244079, 329580, 412354, 75822, 137243, 218754, 170580, 29392, 449873, 252780, 186555, 34385, 330386, 305885, 403874, 311165, 365810, 375730, 157065, 430680, 303948, 245054, 74427, 26154, 18929, 227808, 53555, 261191, 14850, 412205, 447415, 336535, 1065, 95771, 375699, 302457, 947, 287361, 430301, 30781, 477299, 391998, 427172, 58425, 493205, 470240, 305543, 482638, 287488, 461457, 192211, 120725, 168574, 264705, 126484, 124901, 481638, 67280, 451474, 465532, 426382, 82135, 197845, 89715, 108452, 98768, 378376, 464086, 472714, 408133, 189133, 273748, 140222, 320793, 359429, 408567, 301763, 234231, 439995, 298162, 164313, 362709, 59431, 330624, 496385, 445519, 83998, 412586, 208123, 482055, 494759, 208629, 324049, 289202, 313584, 17033, 241257, 5685, 84512, 94456, 264167, 409158, 273331, 207658, 34506, 52545, 291323, 113950, 73703, 463149, 237740, 385682, 320068, 478141, 125408, 237470, 425553, 258234, 114686, 327436, 406167, 492274, 343001, 60004, 169345, 431836, 169396, 303013, 378291, 451737, 55223, 41438, 63616, 242651, 92042, 121990, 353279, 61754, 224593, 181422, 47111, 9030, 153785, 249974, 203855, 60854, 72373, 449955, 378522, 435948, 421460, 427471, 167392, 323387, 415145, 243297, 492109, 366367, 130263, 259800, 171497, 127984, 295872, 464909, 379454, 266172, 198872, 232895, 340858, 126146, 114866, 147361, 125130, 302881, 206887, 118506, 93282, 365680, 479773, 181830, 324338, 257125, 386330, 360368, 175973, 330304, 404007, 488337, 486589, 152299, 49400, 117087, 121530, 209363, 263266, 176289, 463045, 197196, 210141, 290296, 430211, 39477, 239598, 148072, 52828, 316564, 140398, 26799, 31033, 460945, 216829, 484788, 368711, 358581, 65804, 192294, 288784, 165425, 490482, 459167, 189340, 360232, 203526]\n",
      "\n",
      "These correspond to users with track_id/play count:\n"
     ]
    },
    {
     "data": {
      "text/html": [
       "<div>\n",
       "<style scoped>\n",
       "    .dataframe tbody tr th:only-of-type {\n",
       "        vertical-align: middle;\n",
       "    }\n",
       "\n",
       "    .dataframe tbody tr th {\n",
       "        vertical-align: top;\n",
       "    }\n",
       "\n",
       "    .dataframe thead th {\n",
       "        text-align: right;\n",
       "    }\n",
       "</style>\n",
       "<table border=\"1\" class=\"dataframe\">\n",
       "  <thead>\n",
       "    <tr style=\"text-align: right;\">\n",
       "      <th></th>\n",
       "      <th>user_id</th>\n",
       "      <th>track_id</th>\n",
       "      <th>count_play</th>\n",
       "    </tr>\n",
       "  </thead>\n",
       "  <tbody>\n",
       "    <tr>\n",
       "      <td>100</td>\n",
       "      <td>7136566080545880984</td>\n",
       "      <td>2887313970437931179</td>\n",
       "      <td>1</td>\n",
       "    </tr>\n",
       "    <tr>\n",
       "      <td>201578</td>\n",
       "      <td>7148227064974373113</td>\n",
       "      <td>2865135697155157573</td>\n",
       "      <td>1</td>\n",
       "    </tr>\n",
       "    <tr>\n",
       "      <td>477219</td>\n",
       "      <td>7125515783895567047</td>\n",
       "      <td>2912573526146869598</td>\n",
       "      <td>4</td>\n",
       "    </tr>\n",
       "    <tr>\n",
       "      <td>468141</td>\n",
       "      <td>7124301859171593566</td>\n",
       "      <td>2858493847568314791</td>\n",
       "      <td>7</td>\n",
       "    </tr>\n",
       "    <tr>\n",
       "      <td>367839</td>\n",
       "      <td>7160689515887929237</td>\n",
       "      <td>2910224100610506036</td>\n",
       "      <td>12</td>\n",
       "    </tr>\n",
       "    <tr>\n",
       "      <td>...</td>\n",
       "      <td>...</td>\n",
       "      <td>...</td>\n",
       "      <td>...</td>\n",
       "    </tr>\n",
       "    <tr>\n",
       "      <td>490482</td>\n",
       "      <td>7266936298570642344</td>\n",
       "      <td>3197813985264415667</td>\n",
       "      <td>1</td>\n",
       "    </tr>\n",
       "    <tr>\n",
       "      <td>459167</td>\n",
       "      <td>7472061914667602070</td>\n",
       "      <td>2920841817089190485</td>\n",
       "      <td>1</td>\n",
       "    </tr>\n",
       "    <tr>\n",
       "      <td>189340</td>\n",
       "      <td>7139041730276222834</td>\n",
       "      <td>2549169297640746802</td>\n",
       "      <td>1</td>\n",
       "    </tr>\n",
       "    <tr>\n",
       "      <td>360232</td>\n",
       "      <td>6892618954263281437</td>\n",
       "      <td>2652793360904765384</td>\n",
       "      <td>1</td>\n",
       "    </tr>\n",
       "    <tr>\n",
       "      <td>203526</td>\n",
       "      <td>6854289058943614898</td>\n",
       "      <td>2700608670974064968</td>\n",
       "      <td>3</td>\n",
       "    </tr>\n",
       "  </tbody>\n",
       "</table>\n",
       "<p>500 rows × 3 columns</p>\n",
       "</div>"
      ],
      "text/plain": [
       "                    user_id             track_id  count_play\n",
       "100     7136566080545880984  2887313970437931179           1\n",
       "201578  7148227064974373113  2865135697155157573           1\n",
       "477219  7125515783895567047  2912573526146869598           4\n",
       "468141  7124301859171593566  2858493847568314791           7\n",
       "367839  7160689515887929237  2910224100610506036          12\n",
       "...                     ...                  ...         ...\n",
       "490482  7266936298570642344  3197813985264415667           1\n",
       "459167  7472061914667602070  2920841817089190485           1\n",
       "189340  7139041730276222834  2549169297640746802           1\n",
       "360232  6892618954263281437  2652793360904765384           1\n",
       "203526  6854289058943614898  2700608670974064968           3\n",
       "\n",
       "[500 rows x 3 columns]"
      ]
     },
     "execution_count": 34,
     "metadata": {},
     "output_type": "execute_result"
    }
   ],
   "source": [
    "print('The {}-nearest neighbors for item {} are in indices: {}'.format(k,idx,nearest_neighbors))\n",
    "print('\\nThese correspond to users with track_id/play count:')\n",
    "df_train.iloc[nearest_neighbors]"
   ]
  },
  {
   "cell_type": "markdown",
   "metadata": {},
   "source": [
    "# Brute Force Search"
   ]
  },
  {
   "cell_type": "code",
   "execution_count": 6,
   "metadata": {},
   "outputs": [],
   "source": [
    "# we want to measure the distance of the vectors from the other indices to the vector of the source index\n",
    "# define the source vector to be at index = idx = 100\n",
    "\n",
    "# build\n",
    "tic = timeit.default_timer()\n",
    "\n",
    "idx = 100\n",
    "source = df_train.loc[idx].to_numpy()\n",
    "distances = []\n",
    "\n",
    "for index, row in df_train.iterrows():\n",
    "    distance = euclidean_distances(source.reshape(1,-1), row.to_numpy().reshape(1,-1))[0]\n",
    "    distances.append(distance)\n",
    "    \n",
    "toc = timeit.default_timer()\n",
    "build_time = toc - tic"
   ]
  },
  {
   "cell_type": "code",
   "execution_count": 7,
   "metadata": {},
   "outputs": [
    {
     "name": "stdout",
     "output_type": "stream",
     "text": [
      "Time to build distances array: 80.7128257 seconds\n"
     ]
    }
   ],
   "source": [
    "print('Time to build distances array: {} seconds'.format(build_time))"
   ]
  },
  {
   "cell_type": "code",
   "execution_count": 8,
   "metadata": {},
   "outputs": [],
   "source": [
    "# search\n",
    "tic = timeit.default_timer()\n",
    "nearest_neighbors = np.argmin(distances)\n",
    "\n",
    "toc = timeit.default_timer()\n",
    "search_time = toc-tic"
   ]
  },
  {
   "cell_type": "code",
   "execution_count": 9,
   "metadata": {},
   "outputs": [
    {
     "name": "stdout",
     "output_type": "stream",
     "text": [
      "Time to get nearest neighbors for item 100 in: 0.18988110000000802 seconds\n"
     ]
    }
   ],
   "source": [
    "print('Time to get nearest neighbors for item {} in: {} seconds'.format(idx,search_time))"
   ]
  },
  {
   "cell_type": "code",
   "execution_count": 10,
   "metadata": {},
   "outputs": [
    {
     "name": "stdout",
     "output_type": "stream",
     "text": [
      "The nearest neighbor for item 100 is in index: 100\n",
      "\n",
      "This correspond to user with track_id/play count:\n"
     ]
    },
    {
     "data": {
      "text/plain": [
       "user_id       7096748636088034474\n",
       "track_id     -7712253977634981864\n",
       "count_play                      1\n",
       "Name: 100, dtype: int64"
      ]
     },
     "execution_count": 10,
     "metadata": {},
     "output_type": "execute_result"
    }
   ],
   "source": [
    "print('The nearest neighbor for item {} is in index: {}'.format(idx,nearest_neighbors))\n",
    "print('\\nThis correspond to user with track_id/play count:')\n",
    "df_train.iloc[nearest_neighbors]"
   ]
  },
  {
   "cell_type": "code",
   "execution_count": 11,
   "metadata": {},
   "outputs": [
    {
     "name": "stdout",
     "output_type": "stream",
     "text": [
      "Approximate nearest neighbors build time was approximately 1.9950314234873963x faster\n",
      "Approximate nearest neighbors search performed approximately 368.0579569811628x faster\n"
     ]
    }
   ],
   "source": [
    "print('Approximate nearest neighbors build time was approximately {}x faster'.format(80.7128257/40.4569195))\n",
    "print('Approximate nearest neighbors search performed approximately {}x faster'.format(0.18988110000000802/0.000515899999982139))"
   ]
  },
  {
   "cell_type": "code",
   "execution_count": null,
   "metadata": {},
   "outputs": [],
   "source": []
  }
 ],
 "metadata": {
  "kernelspec": {
   "display_name": "Python 3",
   "language": "python",
   "name": "python3"
  },
  "language_info": {
   "codemirror_mode": {
    "name": "ipython",
    "version": 3
   },
   "file_extension": ".py",
   "mimetype": "text/x-python",
   "name": "python",
   "nbconvert_exporter": "python",
   "pygments_lexer": "ipython3",
   "version": "3.7.4"
  }
 },
 "nbformat": 4,
 "nbformat_minor": 2
}
