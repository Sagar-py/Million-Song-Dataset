{
 "cells": [
  {
   "cell_type": "code",
   "execution_count": 3,
   "metadata": {
    "application/vnd.databricks.v1+cell": {
     "inputWidgets": {},
     "nuid": "666887e7-4446-4c2e-ae64-a37e1135b7a9",
     "showTitle": false,
     "title": ""
    }
   },
   "outputs": [],
   "source": [
    "import sys\n",
    "import math\n",
    "from annoy import AnnoyIndex\n",
    "import timeit\n",
    "import numpy as np\n",
    "from sklearn.metrics.pairwise import euclidean_distances\n",
    "\n",
    "from pyspark.sql import SparkSession\n",
    "from pyspark.ml.recommendation import ALSModel\n",
    "from pyspark.sql import functions as F\n",
    "from pyspark.sql.functions import udf, col, explode\n",
    "from pyspark.sql.types import *\n",
    "from pyspark.sql.window import Window\n",
    "from pyspark.ml.recommendation import ALS\n",
    "from pyspark.context import SparkContext\n",
    "from pyspark.mllib.evaluation import RankingMetrics\n"
   ]
  },
  {
   "cell_type": "code",
   "execution_count": 5,
   "metadata": {
    "application/vnd.databricks.v1+cell": {
     "inputWidgets": {},
     "nuid": "b7b9bcfe-7700-42f9-9202-741e20162c8d",
     "showTitle": false,
     "title": ""
    }
   },
   "outputs": [],
   "source": [
    "spark = SparkSession.builder.appName(\"ALS\").getOrCreate()"
   ]
  },
  {
   "cell_type": "code",
   "execution_count": 6,
   "metadata": {
    "application/vnd.databricks.v1+cell": {
     "inputWidgets": {},
     "nuid": "bb462c40-3b38-4577-bfe8-d25987cb6501",
     "showTitle": false,
     "title": ""
    }
   },
   "outputs": [],
   "source": [
    "data_train = spark.read.parquet('cf_train.parquet')\n",
    "data_val = spark.read.parquet('cf_validation.parquet')\n",
    "data_test = spark.read.parquet('cf_test.parquet')\n",
    "\n",
    "df_train = data_train.select('user_id','track_id','count')\n",
    "\n",
    "df_val = data_val.select('user_id','track_id','count')\n",
    "\n",
    "df_test = data_test.select('user_id','track_id','count')\n",
    "\n",
    "frac = 1.0\n",
    "\n",
    "df_train = data_train.sample(withReplacement=False, fraction=frac)\n",
    "df_val = data_val.sample(withReplacement=False, fraction=frac)\n",
    "df_test = data_test.sample(withReplacement=False, fraction=frac)\n",
    "\n",
    "df_train = df_train.withColumn('user_id', F.hash(col('user_id')))\n",
    "df_train = df_train.withColumn('track_id', F.hash(col('track_id')))\n",
    "df_val = df_val.withColumn('user_id', F.hash(col('user_id')))\n",
    "df_val = df_val.withColumn('track_id', F.hash(col('track_id')))\n",
    "df_test = df_test.withColumn('user_id', F.hash(col('user_id')))\n",
    "df_test = df_test.withColumn('track_id', F.hash(col('track_id')))\n",
    "\n",
    "rank = 20\n",
    "reg_param = 0.05\n",
    "alpha = 15\n",
    "\n",
    "als = ALS(rank = rank, regParam = reg_param, alpha = alpha, userCol = \"user_id\", itemCol = \"track_id\", ratingCol = \"count\", implicitPrefs = True)\n",
    "\n",
    "als_model = als.fit(df_train)\n"
   ]
  },
  {
   "cell_type": "code",
   "execution_count": 7,
   "metadata": {
    "application/vnd.databricks.v1+cell": {
     "inputWidgets": {},
     "nuid": "19991f71-10a3-43e3-93a3-ffa2fbeff53d",
     "showTitle": false,
     "title": ""
    }
   },
   "outputs": [
    {
     "name": "stdout",
     "output_type": "stream",
     "text": [
      "+-----------+--------------------+\n",
      "|         id|            features|\n",
      "+-----------+--------------------+\n",
      "|-2147356230|[0.002952819, -0....|\n",
      "|-2147124630|[5.4565535E-5, -3...|\n",
      "|-2146869950|[-1.3237651E-27, ...|\n",
      "|-2145200330|[-1.4980401E-4, 1...|\n",
      "|-2145140630|[-3.205877E-5, -8...|\n",
      "+-----------+--------------------+\n",
      "only showing top 5 rows\n",
      "\n"
     ]
    },
    {
     "data": {
      "text/plain": [
       "Column<b'features'>"
      ]
     },
     "execution_count": 7,
     "metadata": {},
     "output_type": "execute_result"
    }
   ],
   "source": [
    "item_factors = als_model.itemFactors\n",
    "item_factors.show(5)\n",
    "item_factors['features']"
   ]
  },
  {
   "cell_type": "code",
   "execution_count": 8,
   "metadata": {
    "application/vnd.databricks.v1+cell": {
     "inputWidgets": {},
     "nuid": "c589f7c7-9b5f-4b6b-a3a1-cd2900a549d2",
     "showTitle": false,
     "title": ""
    }
   },
   "outputs": [
    {
     "name": "stdout",
     "output_type": "stream",
     "text": [
      "+-----------+--------------------+--------+\n",
      "|         id|            features|annoy_id|\n",
      "+-----------+--------------------+--------+\n",
      "|-2147427751|[-1.1584E-28, 2.5...|       1|\n",
      "|-2147410333|[2.3735834E-5, 3....|       2|\n",
      "|-2147356230|[0.002952819, -0....|       3|\n",
      "|-2147354705|[1.5179839E-28, 2...|       4|\n",
      "|-2147351338|[-2.4785043E-4, 5...|       5|\n",
      "+-----------+--------------------+--------+\n",
      "only showing top 5 rows\n",
      "\n"
     ]
    }
   ],
   "source": [
    "item_factors = item_factors.withColumn('annoy_id', F.row_number().over(Window.orderBy('id')))\n",
    "\n",
    "item_factors.show(5)\n",
    "#item_factors.toPandas().to_csv('item_factors.csv')"
   ]
  },
  {
   "cell_type": "code",
   "execution_count": 9,
   "metadata": {
    "application/vnd.databricks.v1+cell": {
     "inputWidgets": {},
     "nuid": "5dc70e1e-1a87-4b70-af21-fbe4f3e3a1ac",
     "showTitle": false,
     "title": ""
    }
   },
   "outputs": [],
   "source": [
    "annoy_id_list = item_factors.select(['id', 'annoy_id'])     # \n",
    "item_factors = item_factors.select(['annoy_id', 'features'])"
   ]
  },
  {
   "cell_type": "markdown",
   "metadata": {},
   "source": [
    "# 1. Annoy"
   ]
  },
  {
   "cell_type": "code",
   "execution_count": 10,
   "metadata": {
    "application/vnd.databricks.v1+cell": {
     "inputWidgets": {},
     "nuid": "efc42866-697c-486e-8b6f-9318d9cffd21",
     "showTitle": false,
     "title": ""
    }
   },
   "outputs": [
    {
     "name": "stdout",
     "output_type": "stream",
     "text": [
      "Time to build tree: 3.7635909999999626 seconds\n"
     ]
    }
   ],
   "source": [
    "# build\n",
    "tic = timeit.default_timer()\n",
    "\n",
    "annoy_tree = AnnoyIndex(als_model.rank, 'dot')\n",
    "\n",
    "for item_factor in item_factors.collect():\n",
    "    annoy_tree.add_item(item_factor.annoy_id, item_factor.features)\n",
    "\n",
    "annoy_tree.build(10)\n",
    "\n",
    "toc = timeit.default_timer()\n",
    "build_time = toc-tic\n",
    "\n",
    "print('Time to build tree: {} seconds'.format(build_time))"
   ]
  },
  {
   "cell_type": "code",
   "execution_count": 11,
   "metadata": {
    "application/vnd.databricks.v1+cell": {
     "inputWidgets": {},
     "nuid": "7cf85116-e52e-48c6-816c-0e74eaedb796",
     "showTitle": false,
     "title": ""
    }
   },
   "outputs": [],
   "source": [
    "val_user = df_val.select('user_id').distinct()\n",
    "user_factors = als_model.userFactors.withColumnRenamed('id', 'user_id')\n",
    "val_user_factors = val_user.join(user_factors, on='user_id', how='inner')"
   ]
  },
  {
   "cell_type": "code",
   "execution_count": 12,
   "metadata": {
    "application/vnd.databricks.v1+cell": {
     "inputWidgets": {},
     "nuid": "50ff651e-6cd7-4da9-9e49-0b9a2f466a6f",
     "showTitle": false,
     "title": ""
    }
   },
   "outputs": [
    {
     "name": "stdout",
     "output_type": "stream",
     "text": [
      "-545358818\n",
      "+-----------+--------------------+\n",
      "|    user_id|            features|\n",
      "+-----------+--------------------+\n",
      "|-2090272930|[-5.840485E-19, -...|\n",
      "|-1948602990|[-0.0047930637, 0...|\n",
      "|-1773662890|[0.11956502, -1.2...|\n",
      "|-1680509340|[-5.948269E-4, -0...|\n",
      "|-1480121900|[0.3016885, 0.567...|\n",
      "|-1364968800|[-0.0011344405, 0...|\n",
      "|-1155265040|[9.781499E-4, -7....|\n",
      "|-1051642160|[-0.0807854, 0.01...|\n",
      "| -941150950|[-0.054587103, 0....|\n",
      "| -776472750|[0.96694446, 0.38...|\n",
      "| -699194540|[0.2584578, -0.09...|\n",
      "| -249000270|[-0.0031910143, -...|\n",
      "|   -6962990|[0.65244216, -0.0...|\n",
      "|  608204120|[0.38735414, 0.15...|\n",
      "| 1104141380|[1.3534796, 0.090...|\n",
      "| 1365028600|[0.08714541, -0.1...|\n",
      "| 1573842130|[-0.08874205, 0.0...|\n",
      "| 1612213650|[-0.012219498, 0....|\n",
      "| 1662925200|[8.322276E-5, 8.8...|\n",
      "| 1818913200|[0.0013753459, -1...|\n",
      "+-----------+--------------------+\n",
      "only showing top 20 rows\n",
      "\n"
     ]
    }
   ],
   "source": [
    "print(int(val_user.collect()[0].user_id))\n",
    "val_user_factors.show()"
   ]
  },
  {
   "cell_type": "code",
   "execution_count": 39,
   "metadata": {
    "application/vnd.databricks.v1+cell": {
     "inputWidgets": {},
     "nuid": "05e81032-2938-45e5-b51e-d2b1ab3c6a9f",
     "showTitle": false,
     "title": ""
    }
   },
   "outputs": [
    {
     "name": "stdout",
     "output_type": "stream",
     "text": [
      "Time to build recommendations for all users in: 0.3339261000000988 seconds\n"
     ]
    },
    {
     "data": {
      "text/plain": [
       "ParallelCollectionRDD[385] at parallelize at PythonRDD.scala:195"
      ]
     },
     "execution_count": 39,
     "metadata": {},
     "output_type": "execute_result"
    }
   ],
   "source": [
    "#search\n",
    "\n",
    "sc = SparkContext.getOrCreate()\n",
    "\n",
    "tic = timeit.default_timer()\n",
    "\n",
    "recommend_list = [(user.user_id, annoy_tree.get_nns_by_vector(user.features, 1000, search_k=-1, include_distances=False)) for user in\n",
    "                      val_user_factors.collect()]\n",
    "\n",
    "toc = timeit.default_timer()\n",
    "\n",
    "search_time = toc-tic\n",
    "\n",
    "print('Time to build recommendations for all users in: {} seconds'.format(search_time))\n",
    "\n",
    "temp = sc.parallelize(recommend_list)\n",
    "temp"
   ]
  },
  {
   "cell_type": "code",
   "execution_count": 0,
   "metadata": {
    "application/vnd.databricks.v1+cell": {
     "inputWidgets": {},
     "nuid": "969f7285-6479-4c29-b289-3d7e8767f742",
     "showTitle": false,
     "title": ""
    }
   },
   "outputs": [
    {
     "data": {
      "text/html": [
       "<style scoped>\n",
       "  .ansiout {\n",
       "    display: block;\n",
       "    unicode-bidi: embed;\n",
       "    white-space: pre-wrap;\n",
       "    word-wrap: break-word;\n",
       "    word-break: break-all;\n",
       "    font-family: \"Source Code Pro\", \"Menlo\", monospace;;\n",
       "    font-size: 13px;\n",
       "    color: #555;\n",
       "    margin-left: 4px;\n",
       "    line-height: 19px;\n",
       "  }\n",
       "</style>\n",
       "<div class=\"ansiout\">root\n",
       "-- user_id: long (nullable = true)\n",
       "-- candidates: array (nullable = true)\n",
       "    |-- element: long (containsNull = true)\n",
       "\n",
       "</div>"
      ]
     },
     "metadata": {
      "application/vnd.databricks.v1+output": {
       "addedWidgets": {},
       "arguments": {},
       "data": "<div class=\"ansiout\">root\n |-- user_id: long (nullable = true)\n |-- candidates: array (nullable = true)\n |    |-- element: long (containsNull = true)\n\n</div>",
       "datasetInfos": [],
       "metadata": {},
       "removedWidgets": [],
       "type": "html"
      }
     },
     "output_type": "display_data"
    }
   ],
   "source": [
    "candidatesDF = temp.toDF(['user_id', 'candidates'])\n",
    "candidatesDF.printSchema()"
   ]
  },
  {
   "cell_type": "code",
   "execution_count": 0,
   "metadata": {
    "application/vnd.databricks.v1+cell": {
     "inputWidgets": {},
     "nuid": "f35971f5-3249-4b0b-a490-3895681ef301",
     "showTitle": false,
     "title": ""
    }
   },
   "outputs": [
    {
     "data": {
      "text/html": [
       "<style scoped>\n",
       "  .ansiout {\n",
       "    display: block;\n",
       "    unicode-bidi: embed;\n",
       "    white-space: pre-wrap;\n",
       "    word-wrap: break-word;\n",
       "    word-break: break-all;\n",
       "    font-family: \"Source Code Pro\", \"Menlo\", monospace;;\n",
       "    font-size: 13px;\n",
       "    color: #555;\n",
       "    margin-left: 4px;\n",
       "    line-height: 19px;\n",
       "  }\n",
       "</style>\n",
       "<div class=\"ansiout\"></div>"
      ]
     },
     "metadata": {
      "application/vnd.databricks.v1+output": {
       "addedWidgets": {},
       "arguments": {},
       "data": "<div class=\"ansiout\"></div>",
       "datasetInfos": [],
       "metadata": {},
       "removedWidgets": [],
       "type": "html"
      }
     },
     "output_type": "display_data"
    }
   ],
   "source": [
    "candidatesDF = candidatesDF.select(\"user_id\",F.explode(\"candidates\").alias('annoy_id'))\n",
    "candidatesDF = candidatesDF.join(annoy_id_list, on='annoy_id', how='inner')\n",
    "candidatesDF = candidatesDF.select('user_id', col('id').alias('track_id'))\n"
   ]
  },
  {
   "cell_type": "code",
   "execution_count": 0,
   "metadata": {
    "application/vnd.databricks.v1+cell": {
     "inputWidgets": {},
     "nuid": "cb4b6927-b3d2-4803-9666-8db570b858ce",
     "showTitle": false,
     "title": ""
    }
   },
   "outputs": [
    {
     "data": {
      "text/html": [
       "<style scoped>\n",
       "  .ansiout {\n",
       "    display: block;\n",
       "    unicode-bidi: embed;\n",
       "    white-space: pre-wrap;\n",
       "    word-wrap: break-word;\n",
       "    word-break: break-all;\n",
       "    font-family: \"Source Code Pro\", \"Menlo\", monospace;;\n",
       "    font-size: 13px;\n",
       "    color: #555;\n",
       "    margin-left: 4px;\n",
       "    line-height: 19px;\n",
       "  }\n",
       "</style>\n",
       "<div class=\"ansiout\"></div>"
      ]
     },
     "metadata": {
      "application/vnd.databricks.v1+output": {
       "addedWidgets": {},
       "arguments": {},
       "data": "<div class=\"ansiout\"></div>",
       "datasetInfos": [],
       "metadata": {},
       "removedWidgets": [],
       "type": "html"
      }
     },
     "output_type": "display_data"
    }
   ],
   "source": [
    "predictions = als_model.transform(candidatesDF)\n",
    "predictions = predictions.select('user_id','track_id','prediction')\n",
    "predictions.createOrReplaceTempView(\"predictions\")"
   ]
  },
  {
   "cell_type": "code",
   "execution_count": 0,
   "metadata": {
    "application/vnd.databricks.v1+cell": {
     "inputWidgets": {},
     "nuid": "2a8813d8-323e-4961-bb11-e64d8e3c1363",
     "showTitle": false,
     "title": ""
    }
   },
   "outputs": [
    {
     "data": {
      "text/html": [
       "<style scoped>\n",
       "  .ansiout {\n",
       "    display: block;\n",
       "    unicode-bidi: embed;\n",
       "    white-space: pre-wrap;\n",
       "    word-wrap: break-word;\n",
       "    word-break: break-all;\n",
       "    font-family: \"Source Code Pro\", \"Menlo\", monospace;;\n",
       "    font-size: 13px;\n",
       "    color: #555;\n",
       "    margin-left: 4px;\n",
       "    line-height: 19px;\n",
       "  }\n",
       "</style>\n",
       "<div class=\"ansiout\">Out[15]: DataFrame[recommended_tracks: array&lt;int&gt;, truth_tracks: array&lt;int&gt;]</div>"
      ]
     },
     "metadata": {
      "application/vnd.databricks.v1+output": {
       "addedWidgets": {},
       "arguments": {},
       "data": "<div class=\"ansiout\">Out[15]: DataFrame[recommended_tracks: array&lt;int&gt;, truth_tracks: array&lt;int&gt;]</div>",
       "datasetInfos": [],
       "metadata": {},
       "removedWidgets": [],
       "type": "html"
      }
     },
     "output_type": "display_data"
    }
   ],
   "source": [
    "ground_truth = df_val.groupBy('user_id').agg(F.collect_set(\"track_id\").alias('tracks'))\n",
    "ground_truth = spark.sql('SELECT user_id, collect_list(track_id) AS truth_tracks FROM predictions GROUP BY user_id')\n",
    "ground_truth.createOrReplaceTempView('ground_truth')\n",
    "\n",
    "val_users = df_val.select('user_id').distinct()\n",
    "recommended = als_model.recommendForUserSubset(val_users, 500)\n",
    "recommended.createOrReplaceTempView(\"recommended\")\n",
    "\n",
    "explode_recommended = (recommended.select(\"user_id\", explode(\"recommendations\").alias(\"recommendation\")).select(\"user_id\", \"recommendation.*\"))\n",
    "explode_recommended.createOrReplaceTempView(\"explode_recommended\")\n",
    "\n",
    "agg_recommended = spark.sql('SELECT user_id, collect_list(track_id) AS recommended_tracks FROM explode_recommended GROUP BY user_id')\n",
    "agg_recommended.createOrReplaceTempView(\"agg_recommended\")\n",
    "\n",
    "ground_truth_recommended = spark.sql('SELECT agg_recommended.recommended_tracks AS recommended_tracks, ground_truth.truth_tracks as truth_tracks FROM agg_recommended INNER JOIN ground_truth ON agg_recommended.user_id = ground_truth.user_id')\n",
    "\n",
    "ground_truth_recommended"
   ]
  },
  {
   "cell_type": "code",
   "execution_count": 0,
   "metadata": {
    "application/vnd.databricks.v1+cell": {
     "inputWidgets": {},
     "nuid": "9ca88453-f578-444d-8c7a-d976b4390e33",
     "showTitle": false,
     "title": ""
    }
   },
   "outputs": [
    {
     "data": {
      "text/html": [
       "<style scoped>\n",
       "  .ansiout {\n",
       "    display: block;\n",
       "    unicode-bidi: embed;\n",
       "    white-space: pre-wrap;\n",
       "    word-wrap: break-word;\n",
       "    word-break: break-all;\n",
       "    font-family: \"Source Code Pro\", \"Menlo\", monospace;;\n",
       "    font-size: 13px;\n",
       "    color: #555;\n",
       "    margin-left: 4px;\n",
       "    line-height: 19px;\n",
       "  }\n",
       "</style>\n",
       "<div class=\"ansiout\">+--------------------+--------------------+\n",
       "  recommended_tracks|        truth_tracks|\n",
       "+--------------------+--------------------+\n",
       "[1331994861, 2041...|[563806923, 10566...|\n",
       "[2041181233, -205...|[-1365461083, -16...|\n",
       "[-1006579777, 133...|[142179437, -6248...|\n",
       "[-136034073, 1985...|[-324210567, 7238...|\n",
       "[2041181233, 9125...|[142179437, -1887...|\n",
       "[-2050536687, 774...|[927645570, 10909...|\n",
       "[912549584, -1297...|[-1397356600, -63...|\n",
       "[912549584, 31003...|[142179437, 20713...|\n",
       "[1566035844, 2010...|[-624867681, -197...|\n",
       "[1244275169, 3390...|[1056602456, 2077...|\n",
       "[1637899721, -279...|[931801691, 11705...|\n",
       "[1331994861, 1985...|[723843838, -1470...|\n",
       "[-2119602224, 133...|[-1135438740, 547...|\n",
       "[1985559581, 2530...|[-1496163561, -18...|\n",
       "[-1475947426, -19...|[-319293560, -598...|\n",
       "[2041181233, 9125...|[142179437, 20713...|\n",
       "[-1848163287, -20...|[-598907035, 7165...|\n",
       "[-409733893, -938...|[1056602456, -428...|\n",
       "[-1848163287, -19...|[-861727950, -598...|\n",
       "[1566035844, 6287...|[2071344577, -172...|\n",
       "+--------------------+--------------------+\n",
       "only showing top 20 rows\n",
       "\n",
       "</div>"
      ]
     },
     "metadata": {
      "application/vnd.databricks.v1+output": {
       "addedWidgets": {},
       "arguments": {},
       "data": "<div class=\"ansiout\">+--------------------+--------------------+\n|  recommended_tracks|        truth_tracks|\n+--------------------+--------------------+\n|[1331994861, 2041...|[563806923, 10566...|\n|[2041181233, -205...|[-1365461083, -16...|\n|[-1006579777, 133...|[142179437, -6248...|\n|[-136034073, 1985...|[-324210567, 7238...|\n|[2041181233, 9125...|[142179437, -1887...|\n|[-2050536687, 774...|[927645570, 10909...|\n|[912549584, -1297...|[-1397356600, -63...|\n|[912549584, 31003...|[142179437, 20713...|\n|[1566035844, 2010...|[-624867681, -197...|\n|[1244275169, 3390...|[1056602456, 2077...|\n|[1637899721, -279...|[931801691, 11705...|\n|[1331994861, 1985...|[723843838, -1470...|\n|[-2119602224, 133...|[-1135438740, 547...|\n|[1985559581, 2530...|[-1496163561, -18...|\n|[-1475947426, -19...|[-319293560, -598...|\n|[2041181233, 9125...|[142179437, 20713...|\n|[-1848163287, -20...|[-598907035, 7165...|\n|[-409733893, -938...|[1056602456, -428...|\n|[-1848163287, -19...|[-861727950, -598...|\n|[1566035844, 6287...|[2071344577, -172...|\n+--------------------+--------------------+\nonly showing top 20 rows\n\n</div>",
       "datasetInfos": [],
       "metadata": {},
       "removedWidgets": [],
       "type": "html"
      }
     },
     "output_type": "display_data"
    }
   ],
   "source": [
    "ground_truth_recommended.show()"
   ]
  },
  {
   "cell_type": "code",
   "execution_count": 0,
   "metadata": {
    "application/vnd.databricks.v1+cell": {
     "inputWidgets": {},
     "nuid": "d87ffb4a-9b9c-4b4f-9fd2-884ae928b801",
     "showTitle": false,
     "title": ""
    }
   },
   "outputs": [
    {
     "data": {
      "text/html": [
       "<style scoped>\n",
       "  .ansiout {\n",
       "    display: block;\n",
       "    unicode-bidi: embed;\n",
       "    white-space: pre-wrap;\n",
       "    word-wrap: break-word;\n",
       "    word-break: break-all;\n",
       "    font-family: \"Source Code Pro\", \"Menlo\", monospace;;\n",
       "    font-size: 13px;\n",
       "    color: #555;\n",
       "    margin-left: 4px;\n",
       "    line-height: 19px;\n",
       "  }\n",
       "</style>\n",
       "<div class=\"ansiout\">Precision At K =  0.1440706357214934\n",
       "Mean Average Precision =  0.01634056254353517\n",
       "ncdg At K =  0.15493567174187944\n",
       "</div>"
      ]
     },
     "metadata": {
      "application/vnd.databricks.v1+output": {
       "addedWidgets": {},
       "arguments": {},
       "data": "<div class=\"ansiout\">Precision At K =  0.1440706357214934\nMean Average Precision =  0.01634056254353517\nncdg At K =  0.15493567174187944\n</div>",
       "datasetInfos": [],
       "metadata": {},
       "removedWidgets": [],
       "type": "html"
      }
     },
     "output_type": "display_data"
    }
   ],
   "source": [
    "ground_truth_recommended_rdd = ground_truth_recommended.select(\"recommended_tracks\", \"truth_tracks\").rdd\n",
    "\n",
    "ranking_metrics = RankingMetrics(ground_truth_recommended_rdd)\n",
    "\n",
    "precision_at_K = ranking_metrics.precisionAt(500)\n",
    "mean_average_preision = ranking_metrics.meanAveragePrecision\n",
    "ncdg_at_K = ranking_metrics.ndcgAt(500)\n",
    "\n",
    "print(\"Precision At K = \", precision_at_K)\n",
    "print(\"Mean Average Precision = \", mean_average_preision)\n",
    "print(\"ncdg At K = \", ncdg_at_K)"
   ]
  },
  {
   "cell_type": "markdown",
   "metadata": {
    "application/vnd.databricks.v1+cell": {
     "inputWidgets": {},
     "nuid": "90149bb4-d8cb-418c-8fd4-b9365f12154b",
     "showTitle": false,
     "title": ""
    }
   },
   "source": [
    "# 2. Brute Force"
   ]
  },
  {
   "cell_type": "code",
   "execution_count": 26,
   "metadata": {},
   "outputs": [
    {
     "name": "stdout",
     "output_type": "stream",
     "text": [
      "annoy_id                                                    1\n",
      "features    [-1.1584000373771495e-28, 2.516452806145417e-2...\n",
      "Name: 0, dtype: object\n"
     ]
    }
   ],
   "source": [
    "# we want to measure the distance of the vectors from the other indices to the vector of the source index\n",
    "# define the source vector to be at index = idx = 100\n",
    "\n",
    "# build\n",
    "tic = timeit.default_timer()\n",
    "\n",
    "source = item_factors.toPandas().loc[0]\n",
    "distances = []\n",
    "\n",
    "for item_factor in item_factors.collect():\n",
    "    distance = np.dot(item_factor.features,source.features)\n",
    "    distances.append(distance)\n",
    "    \n",
    "toc = timeit.default_timer()\n",
    "build_time = toc - tic"
   ]
  },
  {
   "cell_type": "code",
   "execution_count": 32,
   "metadata": {},
   "outputs": [
    {
     "name": "stdout",
     "output_type": "stream",
     "text": [
      "Time to build distances array: 3.5557589999999664 seconds\n"
     ]
    }
   ],
   "source": [
    "print('Time to build distances array: {} seconds'.format(build_time))"
   ]
  },
  {
   "cell_type": "code",
   "execution_count": 30,
   "metadata": {},
   "outputs": [],
   "source": [
    "# search\n",
    "tic = timeit.default_timer()\n",
    "nearest_neighbors = np.argmin(distances)\n",
    "\n",
    "toc = timeit.default_timer()\n",
    "search_time = toc-tic"
   ]
  },
  {
   "cell_type": "code",
   "execution_count": 36,
   "metadata": {},
   "outputs": [
    {
     "name": "stdout",
     "output_type": "stream",
     "text": [
      "Time to get nearest neighbors for item single item in: 0.008238499999833948 seconds\n",
      "Time to get nearest neighbors for all items in: 880.102477982261 seconds\n"
     ]
    }
   ],
   "source": [
    "print('Time to get nearest neighbors for item single item in: {} seconds'.format(search_time))\n",
    "print('Time to get nearest neighbors for all items in: {} seconds'.format(search_time*len(item_factors.collect())))"
   ]
  },
  {
   "cell_type": "code",
   "execution_count": null,
   "metadata": {},
   "outputs": [],
   "source": [
    "print('Approximate nearest neighbors build time was approximately {}x faster'.format(/3.5557589999999664/3.7635909999999626))\n",
    "print('Approximate nearest neighbors search performed approximately {}x faster'.format(880.102477982261/0.000515899999982139))"
   ]
  }
 ],
 "metadata": {
  "application/vnd.databricks.v1+notebook": {
   "dashboards": [],
   "language": "python",
   "notebookMetadata": {
    "pythonIndentUnit": 2
   },
   "notebookName": "Annoy",
   "notebookOrigID": 3365565045844016,
   "widgets": {}
  },
  "kernelspec": {
   "display_name": "Python 3",
   "language": "python",
   "name": "python3"
  },
  "language_info": {
   "codemirror_mode": {
    "name": "ipython",
    "version": 3
   },
   "file_extension": ".py",
   "mimetype": "text/x-python",
   "name": "python",
   "nbconvert_exporter": "python",
   "pygments_lexer": "ipython3",
   "version": "3.7.4"
  }
 },
 "nbformat": 4,
 "nbformat_minor": 1
}
